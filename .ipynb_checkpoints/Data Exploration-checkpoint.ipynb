{
 "cells": [
  {
   "cell_type": "code",
   "execution_count": 32,
   "metadata": {},
   "outputs": [],
   "source": [
    "import numpy as np\n",
    "import pandas as pd\n",
    "from sklearn.preprocessing import OneHotEncoder, LabelEncoder\n",
    "from sklearn.ensemble import RandomForestRegressor\n",
    "\n",
    "%matplotlib inline"
   ]
  },
  {
   "cell_type": "code",
   "execution_count": 41,
   "metadata": {
    "collapsed": true
   },
   "outputs": [],
   "source": [
    "path = \"./\"\n",
    "train = pd.read_csv(path + \"train.csv\",true_values='t',false_values='f')\n",
    "test = pd.read_csv(path + \"test.csv\",true_values='t',false_values='f')"
   ]
  },
  {
   "cell_type": "markdown",
   "metadata": {},
   "source": [
    "## Checking & Modifying Column Data Types"
   ]
  },
  {
   "cell_type": "code",
   "execution_count": 56,
   "metadata": {},
   "outputs": [
    {
     "data": {
      "text/plain": [
       "id                                 int64\n",
       "log_price                        float64\n",
       "property_type                     object\n",
       "room_type                         object\n",
       "amenities                         object\n",
       "accommodates                       int64\n",
       "bathrooms                        float64\n",
       "bed_type                          object\n",
       "cancellation_policy               object\n",
       "cleaning_fee                        bool\n",
       "city                              object\n",
       "description                       object\n",
       "first_review              datetime64[ns]\n",
       "host_has_profile_pic              object\n",
       "host_identity_verified            object\n",
       "host_response_rate                object\n",
       "host_since                datetime64[ns]\n",
       "instant_bookable                    bool\n",
       "last_review               datetime64[ns]\n",
       "latitude                         float64\n",
       "longitude                        float64\n",
       "name                              object\n",
       "neighbourhood                     object\n",
       "number_of_reviews                  int64\n",
       "review_scores_rating             float64\n",
       "thumbnail_url                     object\n",
       "zipcode                           object\n",
       "bedrooms                         float64\n",
       "beds                             float64\n",
       "dataset                           object\n",
       "dtype: object"
      ]
     },
     "execution_count": 56,
     "metadata": {},
     "output_type": "execute_result"
    }
   ],
   "source": [
    "train['first_review'] = pd.to_datetime(train['first_review'])\n",
    "train['host_since'] = pd.to_datetime(train['host_since'])\n",
    "train['last_review'] = pd.to_datetime(train['last_review'])\n",
    "train.dtypes"
   ]
  },
  {
   "cell_type": "markdown",
   "metadata": {},
   "source": [
    "## Calculating NaN %"
   ]
  },
  {
   "cell_type": "code",
   "execution_count": 51,
   "metadata": {},
   "outputs": [
    {
     "data": {
      "text/plain": [
       "bathrooms                  0.269865\n",
       "first_review              21.405729\n",
       "host_has_profile_pic       0.253674\n",
       "host_identity_verified     0.253674\n",
       "host_response_rate        24.691341\n",
       "host_since                 0.253674\n",
       "last_review               21.355804\n",
       "neighbourhood              9.272578\n",
       "review_scores_rating      22.563452\n",
       "thumbnail_url             11.086074\n",
       "zipcode                    1.303450\n",
       "bedrooms                   0.122789\n",
       "beds                       0.176762\n",
       "dtype: float64"
      ]
     },
     "execution_count": 51,
     "metadata": {},
     "output_type": "execute_result"
    }
   ],
   "source": [
    "train_nan = (train.isnull().sum() / train.shape[0]) * 100\n",
    "train_nan = train_nan[train_nan>0]\n",
    "train_nan"
   ]
  },
  {
   "cell_type": "markdown",
   "metadata": {},
   "source": [
    "## One-hot-encode categorical variables"
   ]
  },
  {
   "cell_type": "code",
   "execution_count": null,
   "metadata": {},
   "outputs": [],
   "source": [
    "train['dataset'] = \"train\"\n",
    "test['dataset'] = \"test\"\n",
    "data = pd.concat([train,test], axis = 0)\n",
    "\n",
    "# Create amenities columns\n",
    "amenitie_options = []\n",
    "for a in data.amenities:\n",
    "    x = a.split(',')\n",
    "    for t in x:\n",
    "        t = t.replace('{','')\n",
    "        t = t.replace('}','')\n",
    "        if len(t) > 0 and 'translation missing' not in t not in amenitie_options:\n",
    "            amenitie_options.append(t)\n",
    "for x in amenitie_options:\n",
    "    print(x)"
   ]
  },
  {
   "cell_type": "code",
   "execution_count": null,
   "metadata": {
    "collapsed": true
   },
   "outputs": [],
   "source": [
    "categorical = ['property_type','room_type','bed_type','cancellation_policy','city']\n",
    "data = pd.get_dummies(data, columns = categorical)\n",
    "data.columns"
   ]
  },
  {
   "cell_type": "code",
   "execution_count": 53,
   "metadata": {},
   "outputs": [],
   "source": [
    "# Select only numeric data and impute missing values as 0\n",
    "numerics = ['uint8','int16', 'int32', 'int64', 'float16', 'float32', 'float64']\n",
    "train_x = data[data.dataset == \"train\"] \\\n",
    "    .select_dtypes(include=numerics) \\\n",
    "    .drop(\"log_price\", axis = 1) \\\n",
    "    .fillna(0) \\\n",
    "    .values\n",
    "\n",
    "test_x = data[data.dataset == \"test\"] \\\n",
    "    .select_dtypes(include=numerics) \\\n",
    "    .drop(\"log_price\", axis = 1) \\\n",
    "    .fillna(0) \\\n",
    "    .values\n",
    "\n",
    "train_y = data[data.dataset == \"train\"].log_price.values"
   ]
  },
  {
   "cell_type": "code",
   "execution_count": 54,
   "metadata": {},
   "outputs": [
    {
     "name": "stdout",
     "output_type": "stream",
     "text": [
      "RMSE for current split: 0.422514098591\n",
      "RMSE for current split: 0.419582744545\n",
      "RMSE for current split: 0.413761925371\n",
      "RMSE for current split: 0.421351916657\n",
      "RMSE for current split: 0.424273559012\n"
     ]
    }
   ],
   "source": [
    "# Train a Random Forest model with cross-validation\n",
    "\n",
    "from sklearn.model_selection import KFold\n",
    "cv_groups = KFold(n_splits=5)\n",
    "regr = RandomForestRegressor(random_state = 0, n_estimators = 10)\n",
    "\n",
    "for train_index, test_index in cv_groups.split(train_x):\n",
    "    \n",
    "    # Train the model using the training sets\n",
    "    regr.fit(train_x[train_index], train_y[train_index])\n",
    "    \n",
    "    # Make predictions using the testing set\n",
    "    pred_rf = regr.predict(train_x[test_index])\n",
    "    \n",
    "    # Calculate RMSE for current cross-validation split\n",
    "    rmse = str(np.sqrt(np.mean((train_y[test_index] - pred_rf)**2)))\n",
    "    \n",
    "    print(\"RMSE for current split: \" + rmse)"
   ]
  },
  {
   "cell_type": "code",
   "execution_count": 14,
   "metadata": {
    "collapsed": true
   },
   "outputs": [],
   "source": [
    "# Create submission file\n",
    "regr.fit(train_x, train_y)\n",
    "final_prediction = regr.predict(test_x)\n",
    "\n",
    "submission = pd.DataFrame(np.column_stack([test.id, final_prediction]), columns = ['id','log_price'])\n",
    "submission.to_csv(\"sample_submission.csv\", index = False)"
   ]
  }
 ],
 "metadata": {
  "kernelspec": {
   "display_name": "Python 3",
   "language": "python",
   "name": "python3"
  },
  "language_info": {
   "codemirror_mode": {
    "name": "ipython",
    "version": 3
   },
   "file_extension": ".py",
   "mimetype": "text/x-python",
   "name": "python",
   "nbconvert_exporter": "python",
   "pygments_lexer": "ipython3",
   "version": "3.6.1"
  }
 },
 "nbformat": 4,
 "nbformat_minor": 2
}
