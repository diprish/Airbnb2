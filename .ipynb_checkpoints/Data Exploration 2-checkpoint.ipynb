{
 "cells": [
  {
   "cell_type": "code",
   "execution_count": 1,
   "metadata": {
    "collapsed": true
   },
   "outputs": [],
   "source": [
    "import numpy as np\n",
    "import pandas as pd\n",
    "from sklearn.preprocessing import OneHotEncoder, LabelEncoder\n",
    "from sklearn.ensemble import RandomForestRegressor\n",
    "\n",
    "%matplotlib inline"
   ]
  },
  {
   "cell_type": "code",
   "execution_count": 2,
   "metadata": {
    "collapsed": true
   },
   "outputs": [],
   "source": [
    "path = \"./\"\n",
    "train = pd.read_csv(path + \"train.csv\",true_values='t',false_values='f')\n",
    "test = pd.read_csv(path + \"test.csv\",true_values='t',false_values='f')"
   ]
  },
  {
   "cell_type": "markdown",
   "metadata": {},
   "source": [
    "# Checking & Modifying Column Data Types"
   ]
  },
  {
   "cell_type": "code",
   "execution_count": 3,
   "metadata": {
    "collapsed": true
   },
   "outputs": [],
   "source": [
    "train['first_review'] = pd.to_datetime(train['first_review'])\n",
    "train['host_since'] = pd.to_datetime(train['host_since'])\n",
    "train['last_review'] = pd.to_datetime(train['last_review'])"
   ]
  },
  {
   "cell_type": "markdown",
   "metadata": {},
   "source": [
    "# Calculating NaN %"
   ]
  },
  {
   "cell_type": "code",
   "execution_count": 4,
   "metadata": {},
   "outputs": [
    {
     "data": {
      "text/plain": [
       "bathrooms                  0.269865\n",
       "first_review              21.405729\n",
       "host_has_profile_pic       0.253674\n",
       "host_identity_verified     0.253674\n",
       "host_response_rate        24.691341\n",
       "host_since                 0.253674\n",
       "last_review               21.355804\n",
       "neighbourhood              9.272578\n",
       "review_scores_rating      22.563452\n",
       "thumbnail_url             11.086074\n",
       "zipcode                    1.303450\n",
       "bedrooms                   0.122789\n",
       "beds                       0.176762\n",
       "dtype: float64"
      ]
     },
     "execution_count": 4,
     "metadata": {},
     "output_type": "execute_result"
    }
   ],
   "source": [
    "train_nan = (train.isnull().sum() / train.shape[0]) * 100\n",
    "train_nan = train_nan[train_nan>0]\n",
    "train_nan"
   ]
  },
  {
   "cell_type": "code",
   "execution_count": 5,
   "metadata": {},
   "outputs": [
    {
     "name": "stdout",
     "output_type": "stream",
     "text": [
      "Number of NaN values removed: 1296\n"
     ]
    },
    {
     "data": {
      "text/plain": [
       "(25458, 25)"
      ]
     },
     "execution_count": 5,
     "metadata": {},
     "output_type": "execute_result"
    }
   ],
   "source": [
    "original = train.shape[0]\n",
    "train = train.dropna(how='any', subset=['zipcode','property_type', 'bedrooms', 'beds', 'bathrooms'])\n",
    "print('Number of NaN values removed:', original - train.shape[0])\n",
    "\n",
    "train['dataset'] = \"train\"\n",
    "test['dataset'] = \"test\"\n",
    "data = pd.concat([train,test], axis = 0)\n",
    "# data.set_index('id')\n",
    "\n",
    "# Column Selection\n",
    "data = data.drop(['name','thumbnail_url','neighbourhood','description','host_since'],axis=1)\n",
    "\n",
    "data.loc[data['dataset'] == \"test\"].shape"
   ]
  },
  {
   "cell_type": "markdown",
   "metadata": {},
   "source": [
    "## Data Cleaning"
   ]
  },
  {
   "cell_type": "code",
   "execution_count": 6,
   "metadata": {},
   "outputs": [
    {
     "name": "stdout",
     "output_type": "stream",
     "text": [
      "(25458, 25)\n"
     ]
    }
   ],
   "source": [
    "print(data.loc[data['dataset'] == \"test\"].shape)\n",
    "#Set Bedrooms to 1 whereever it is 0\n",
    "data[data['bedrooms'] == 0]=1\n",
    "\n",
    "# # drop any inconsistent values\n",
    "# print('Number of Accommodates 0:', len(data[data['accommodates'] == 0]))\n",
    "# print('Number of Beds 0:', len(data[data['beds'] == 0]))\n",
    "# print('Number of Listings with Price 0', len(data[data['log_price'] == 0]))\n",
    "\n",
    "# convert ZipCode\n",
    "data['zipcode'] = data['zipcode'].str.replace(r'-\\d+', '')\n"
   ]
  },
  {
   "cell_type": "markdown",
   "metadata": {},
   "source": [
    "## Accomodation Distribution"
   ]
  },
  {
   "cell_type": "code",
   "execution_count": 7,
   "metadata": {},
   "outputs": [
    {
     "name": "stdout",
     "output_type": "stream",
     "text": [
      "(23190, 25)\n",
      "Number of Unique Accomodation:  [ 1  2  3  4  5  6  7  8  9 10 11 12 13 14 15 16]\n",
      "Accommodation 1: 20704\n",
      "Accommodation 2: 36748\n",
      "Accommodation 3: 8865\n",
      "Accommodation 4: 14956\n",
      "Accommodation 5: 4543\n",
      "Accommodation 6: 6547\n",
      "Accommodation 7: 1251\n",
      "Accommodation 8: 2391\n",
      "Accommodation 9: 335\n",
      "Accommodation 10: 909\n",
      "Accommodation 11: 115\n",
      "Accommodation 12: 329\n",
      "Accommodation 13: 44\n",
      "Accommodation 14: 137\n",
      "Accommodation 15: 64\n",
      "Accommodation 16: 335\n"
     ]
    }
   ],
   "source": [
    "print(data.loc[data['dataset'] == \"test\"].shape)\n",
    "# explore distribution of accommodates\n",
    "print('Number of Unique Accomodation: ', np.unique(data['accommodates']))\n",
    "for i in range(1, 17):\n",
    "    print('Accommodation {}:'.format(i), len(data[data['accommodates'] == i]))"
   ]
  },
  {
   "cell_type": "code",
   "execution_count": 8,
   "metadata": {},
   "outputs": [
    {
     "name": "stdout",
     "output_type": "stream",
     "text": [
      "(23190, 25)\n"
     ]
    },
    {
     "data": {
      "image/png": "[encoded data removed]",
      "text/plain": [
       "<matplotlib.figure.Figure at 0x208c0f2c390>"
      ]
     },
     "metadata": {},
     "output_type": "display_data"
    }
   ],
   "source": [
    "print(data.loc[data['dataset'] == \"test\"].shape)\n",
    "import matplotlib.pyplot as plt\n",
    "# visualize distribution of price (target variable)\n",
    "plt.hist(data['accommodates'], bins=50)\n",
    "plt.title(\"Histogram of Accommodations\")\n",
    "plt.xlabel(\"Number of Accommodations\")\n",
    "plt.ylabel(\"Frequency\")\n",
    "plt.show()"
   ]
  },
  {
   "cell_type": "code",
   "execution_count": null,
   "metadata": {},
   "outputs": [],
   "source": [
    "print(data.loc[data['dataset'] == \"test\"].shape)\n",
    "# visualize distribution of review scores ratings\n",
    "plt.hist(data['review_scores_rating'][~data['review_scores_rating'].isnull()])\n",
    "plt.title(\"Histogram of Review Scores Ratings\")\n",
    "plt.xlabel(\"Review Score\")\n",
    "plt.ylabel(\"Frequency\")\n",
    "plt.show()"
   ]
  },
  {
   "cell_type": "code",
   "execution_count": null,
   "metadata": {},
   "outputs": [],
   "source": [
    "print(data.loc[data['dataset'] == \"test\"].shape)\n",
    "# turn NaN scores with 0 reviews into 'No Reviews'\n",
    "data.loc[data['number_of_reviews'] == 0, 'review_scores_rating'] = 'No Reviews'\n",
    "data.loc[data['review_scores_rating'].isnull(), 'review_scores_rating'] = 'No Reviews'\n",
    "\n",
    "# Calculate NaN %\n",
    "data_nan = (data.isnull().sum() / data.shape[0]) * 100\n",
    "data_nan = data_nan[data_nan>0]\n",
    "print(data_nan)\n",
    "\n",
    "print(data.review_scores_rating.head(5))"
   ]
  },
  {
   "cell_type": "code",
   "execution_count": null,
   "metadata": {},
   "outputs": [],
   "source": [
    "print(data.loc[data['dataset'] == \"test\"].shape)\n",
    "# convert review_scores_rating into buckets\n",
    "def convert_scores_buckets(val):\n",
    "    if val == 'No Reviews':\n",
    "        return 'No Reviews'\n",
    "    elif int(val) >= 95:\n",
    "        return '95-100'\n",
    "    elif int(val) >= 90 and int(val) < 95:\n",
    "        return '90-94'\n",
    "    elif int(val) >= 85 and int(val) < 90:\n",
    "        return '85-89'\n",
    "    elif int(val) >= 80 and int(val) < 85:\n",
    "        return '80-84'\n",
    "    elif int(val) >= 70 and int(val) < 80:\n",
    "        return '70-79'\n",
    "    elif int(val) >= 60 and int(val) < 70:\n",
    "        return '60-69'\n",
    "    elif int(val) >= 50 and int(val) < 60:\n",
    "        return '50-59'\n",
    "    elif int(val) >= 40 and int(val) < 50:\n",
    "        return '40-49'\n",
    "    elif int(val) >= 30 and int(val) < 40:\n",
    "        return '30-39'\n",
    "    elif int(val) >= 20 and int(val) < 30:\n",
    "        return '20-29'\n",
    "    elif int(val) >= 10 and int(val) < 20:\n",
    "        return '10-19'\n",
    "    elif int(val) < 10.0:\n",
    "        return '0-9'\n",
    "\n",
    "data['review_scores_rating'] = data['review_scores_rating'].apply(convert_scores_buckets)\n",
    "print('Unique Values in the Column:', np.unique(data['review_scores_rating']))"
   ]
  },
  {
   "cell_type": "code",
   "execution_count": null,
   "metadata": {},
   "outputs": [],
   "source": [
    "print('Number of remaining records:', len(data))"
   ]
  },
  {
   "cell_type": "markdown",
   "metadata": {},
   "source": [
    "## One-hot-encode categorical variables"
   ]
  },
  {
   "cell_type": "code",
   "execution_count": null,
   "metadata": {
    "collapsed": true
   },
   "outputs": [],
   "source": [
    "categorical = ['property_type','room_type','bed_type','cancellation_policy','city','review_scores_rating']\n",
    "data = pd.get_dummies(data, columns = categorical)"
   ]
  },
  {
   "cell_type": "code",
   "execution_count": null,
   "metadata": {},
   "outputs": [],
   "source": [
    "data.room_type_1.head(10)"
   ]
  },
  {
   "cell_type": "code",
   "execution_count": null,
   "metadata": {
    "collapsed": true
   },
   "outputs": [],
   "source": [
    "#convert non-categorical variables to floats and standardize\n",
    "def standardize_col(col):\n",
    "    mean = np.mean(col)\n",
    "    std = np.std(col)\n",
    "    return col.apply(lambda x: (x - mean) / std)\n",
    "\n",
    "# Remove % from host_response_rate\n",
    "data['host_response_rate']=data['host_response_rate'].str[:-1].astype(float)"
   ]
  },
  {
   "cell_type": "code",
   "execution_count": null,
   "metadata": {},
   "outputs": [],
   "source": [
    "data['log_price'].plot.hist()"
   ]
  },
  {
   "cell_type": "code",
   "execution_count": null,
   "metadata": {},
   "outputs": [],
   "source": [
    "data.columns"
   ]
  },
  {
   "cell_type": "code",
   "execution_count": null,
   "metadata": {},
   "outputs": [],
   "source": [
    "non_cat_vars = ['accommodates', 'bedrooms', 'beds', 'number_of_reviews', 'bathrooms','host_response_rate']\n",
    "for col in non_cat_vars:\n",
    "    data[col] = data[col].astype(float)\n",
    "    data[col] = standardize_col(data[col])\n",
    "\n",
    "# Calculate NaN %\n",
    "data_nan = (data.isnull().sum() / data.shape[0]) * 100\n",
    "data_nan = data_nan[data_nan>0]\n",
    "print(data_nan)\n",
    "\n",
    "train_y = data[data.dataset == \"train\"].log_price.values\n",
    "\n",
    "# Select only numeric data and impute missing values as 0\n",
    "numerics = ['uint8','int16', 'int32', 'int64', 'float16', 'float32', 'float64']\n",
    "train_x = data[data.dataset == \"train\"] \\\n",
    "    .select_dtypes(include=numerics) \\\n",
    "    .drop(\"log_price\", axis = 1) \\\n",
    "    .fillna(0) \\\n",
    "    .values\n",
    "\n",
    "test_x = data[data.dataset == \"test\"] \\\n",
    "    .select_dtypes(include=numerics) \\\n",
    "    .drop(\"log_price\", axis = 1) \\\n",
    "    .fillna(0) \\\n",
    "    .values\n",
    "\n",
    "print(test_x.shape)"
   ]
  },
  {
   "cell_type": "code",
   "execution_count": null,
   "metadata": {},
   "outputs": [],
   "source": [
    "# Train a Random Forest model with cross-validation\n",
    "\n",
    "from sklearn.model_selection import KFold\n",
    "\n",
    "sample_leaf_options = [1]\n",
    "\n",
    "for leaf_size in sample_leaf_options:\n",
    "    print('Leaf Size: {}'.format(leaf_size))\n",
    "    \n",
    "    cv_groups = KFold(n_splits=1)\n",
    "    \n",
    "    regr = RandomForestRegressor(n_estimators = 200,oob_score = True,n_jobs = -1,random_state =50,max_features = \"auto\", min_samples_leaf = leaf_size)\n",
    "\n",
    "    for train_index, test_index in cv_groups.split(train_x):\n",
    "\n",
    "        # Train the model using the training sets\n",
    "        regr.fit(train_x[train_index], train_y[train_index])\n",
    "\n",
    "        # Make predictions using the testing set\n",
    "        pred_rf = regr.predict(train_x[test_index])\n",
    "\n",
    "        # Calculate RMSE for current cross-validation split\n",
    "        rmse = str(np.sqrt(np.mean((train_y[test_index] - pred_rf)**2)))\n",
    "\n",
    "        print(\"RMSE for current split: \" + rmse)"
   ]
  },
  {
   "cell_type": "code",
   "execution_count": null,
   "metadata": {},
   "outputs": [],
   "source": [
    "# Create submission file\n",
    "regr.fit(train_x, train_y)\n",
    "final_prediction = regr.predict(test_x)\n",
    "\n",
    "print(final_prediction.shape)\n",
    "print(test.id.shape)\n",
    "\n",
    "# submission = pd.DataFrame(np.column_stack([test.id, final_prediction]), columns = ['id','log_price'])\n",
    "# submission.to_csv(\"sample_submission.csv\", index = False)"
   ]
  },
  {
   "cell_type": "code",
   "execution_count": null,
   "metadata": {
    "collapsed": true
   },
   "outputs": [],
   "source": []
  }
 ],
 "metadata": {
  "kernelspec": {
   "display_name": "Python 3",
   "language": "python",
   "name": "python3"
  },
  "language_info": {
   "codemirror_mode": {
    "name": "ipython",
    "version": 3
   },
   "file_extension": ".py",
   "mimetype": "text/x-python",
   "name": "python",
   "nbconvert_exporter": "python",
   "pygments_lexer": "ipython3",
   "version": "3.6.0"
  }
 },
 "nbformat": 4,
 "nbformat_minor": 2
}
