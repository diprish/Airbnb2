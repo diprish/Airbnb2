{
 "cells": [
  {
   "cell_type": "code",
   "execution_count": 98,
   "metadata": {
    "collapsed": true
   },
   "outputs": [],
   "source": [
    "import numpy as np\n",
    "import pandas as pd\n",
    "from sklearn.preprocessing import OneHotEncoder, LabelEncoder\n",
    "from sklearn.ensemble import RandomForestRegressor\n",
    "\n",
    "%matplotlib inline"
   ]
  },
  {
   "cell_type": "code",
   "execution_count": 99,
   "metadata": {
    "collapsed": true
   },
   "outputs": [],
   "source": [
    "path = \"./\"\n",
    "train = pd.read_csv(path + \"train.csv\",true_values='t',false_values='f')\n",
    "test = pd.read_csv(path + \"test.csv\",true_values='t',false_values='f')"
   ]
  },
  {
   "cell_type": "markdown",
   "metadata": {},
   "source": [
    "# Checking & Modifying Column Data Types"
   ]
  },
  {
   "cell_type": "code",
   "execution_count": 100,
   "metadata": {
    "collapsed": true
   },
   "outputs": [],
   "source": [
    "train['first_review'] = pd.to_datetime(train['first_review'])\n",
    "train['host_since'] = pd.to_datetime(train['host_since'])\n",
    "train['last_review'] = pd.to_datetime(train['last_review'])"
   ]
  },
  {
   "cell_type": "markdown",
   "metadata": {},
   "source": [
    "# Calculating NaN %"
   ]
  },
  {
   "cell_type": "code",
   "execution_count": 101,
   "metadata": {},
   "outputs": [
    {
     "data": {
      "text/plain": [
       "bathrooms                  0.269865\n",
       "first_review              21.405729\n",
       "host_has_profile_pic       0.253674\n",
       "host_identity_verified     0.253674\n",
       "host_response_rate        24.691341\n",
       "host_since                 0.253674\n",
       "last_review               21.355804\n",
       "neighbourhood              9.272578\n",
       "review_scores_rating      22.563452\n",
       "thumbnail_url             11.086074\n",
       "zipcode                    1.303450\n",
       "bedrooms                   0.122789\n",
       "beds                       0.176762\n",
       "dtype: float64"
      ]
     },
     "execution_count": 101,
     "metadata": {},
     "output_type": "execute_result"
    }
   ],
   "source": [
    "train_nan = (train.isnull().sum() / train.shape[0]) * 100\n",
    "train_nan = train_nan[train_nan>0]\n",
    "train_nan"
   ]
  },
  {
   "cell_type": "code",
   "execution_count": 116,
   "metadata": {},
   "outputs": [
    {
     "data": {
      "text/html": [
       "<div>\n",
       "<style scoped>\n",
       "    .dataframe tbody tr th:only-of-type {\n",
       "        vertical-align: middle;\n",
       "    }\n",
       "\n",
       "    .dataframe tbody tr th {\n",
       "        vertical-align: top;\n",
       "    }\n",
       "\n",
       "    .dataframe thead th {\n",
       "        text-align: right;\n",
       "    }\n",
       "</style>\n",
       "<table border=\"1\" class=\"dataframe\">\n",
       "  <thead>\n",
       "    <tr style=\"text-align: right;\">\n",
       "      <th></th>\n",
       "      <th>accommodates</th>\n",
       "      <th>amenities</th>\n",
       "      <th>bathrooms</th>\n",
       "      <th>bed_type</th>\n",
       "      <th>bedrooms</th>\n",
       "      <th>beds</th>\n",
       "      <th>cancellation_policy</th>\n",
       "      <th>city</th>\n",
       "      <th>cleaning_fee</th>\n",
       "      <th>dataset</th>\n",
       "      <th>...</th>\n",
       "      <th>instant_bookable</th>\n",
       "      <th>last_review</th>\n",
       "      <th>latitude</th>\n",
       "      <th>log_price</th>\n",
       "      <th>longitude</th>\n",
       "      <th>number_of_reviews</th>\n",
       "      <th>property_type</th>\n",
       "      <th>review_scores_rating</th>\n",
       "      <th>room_type</th>\n",
       "      <th>zipcode</th>\n",
       "    </tr>\n",
       "  </thead>\n",
       "  <tbody>\n",
       "    <tr>\n",
       "      <th>0</th>\n",
       "      <td>3</td>\n",
       "      <td>{\"Wireless Internet\",\"Air conditioning\",Kitche...</td>\n",
       "      <td>1.0</td>\n",
       "      <td>Real Bed</td>\n",
       "      <td>1.0</td>\n",
       "      <td>1.0</td>\n",
       "      <td>strict</td>\n",
       "      <td>NYC</td>\n",
       "      <td>True</td>\n",
       "      <td>train</td>\n",
       "      <td>...</td>\n",
       "      <td>False</td>\n",
       "      <td>2016-07-18 00:00:00</td>\n",
       "      <td>40.696524</td>\n",
       "      <td>5.010635</td>\n",
       "      <td>-73.991617</td>\n",
       "      <td>2</td>\n",
       "      <td>Apartment</td>\n",
       "      <td>100.0</td>\n",
       "      <td>Entire home/apt</td>\n",
       "      <td>11201</td>\n",
       "    </tr>\n",
       "    <tr>\n",
       "      <th>1</th>\n",
       "      <td>7</td>\n",
       "      <td>{\"Wireless Internet\",\"Air conditioning\",Kitche...</td>\n",
       "      <td>1.0</td>\n",
       "      <td>Real Bed</td>\n",
       "      <td>3.0</td>\n",
       "      <td>3.0</td>\n",
       "      <td>strict</td>\n",
       "      <td>NYC</td>\n",
       "      <td>True</td>\n",
       "      <td>train</td>\n",
       "      <td>...</td>\n",
       "      <td>True</td>\n",
       "      <td>2017-09-23 00:00:00</td>\n",
       "      <td>40.766115</td>\n",
       "      <td>5.129899</td>\n",
       "      <td>-73.989040</td>\n",
       "      <td>6</td>\n",
       "      <td>Apartment</td>\n",
       "      <td>93.0</td>\n",
       "      <td>Entire home/apt</td>\n",
       "      <td>10019</td>\n",
       "    </tr>\n",
       "    <tr>\n",
       "      <th>2</th>\n",
       "      <td>5</td>\n",
       "      <td>{TV,\"Cable TV\",\"Wireless Internet\",\"Air condit...</td>\n",
       "      <td>1.0</td>\n",
       "      <td>Real Bed</td>\n",
       "      <td>1.0</td>\n",
       "      <td>3.0</td>\n",
       "      <td>moderate</td>\n",
       "      <td>NYC</td>\n",
       "      <td>True</td>\n",
       "      <td>train</td>\n",
       "      <td>...</td>\n",
       "      <td>True</td>\n",
       "      <td>2017-09-14 00:00:00</td>\n",
       "      <td>40.808110</td>\n",
       "      <td>4.976734</td>\n",
       "      <td>-73.943756</td>\n",
       "      <td>10</td>\n",
       "      <td>Apartment</td>\n",
       "      <td>92.0</td>\n",
       "      <td>Entire home/apt</td>\n",
       "      <td>10027</td>\n",
       "    </tr>\n",
       "    <tr>\n",
       "      <th>3</th>\n",
       "      <td>4</td>\n",
       "      <td>{TV,\"Cable TV\",Internet,\"Wireless Internet\",Ki...</td>\n",
       "      <td>1.0</td>\n",
       "      <td>Real Bed</td>\n",
       "      <td>2.0</td>\n",
       "      <td>2.0</td>\n",
       "      <td>flexible</td>\n",
       "      <td>SF</td>\n",
       "      <td>True</td>\n",
       "      <td>train</td>\n",
       "      <td>...</td>\n",
       "      <td>False</td>\n",
       "      <td>NaT</td>\n",
       "      <td>37.772004</td>\n",
       "      <td>6.620073</td>\n",
       "      <td>-122.431619</td>\n",
       "      <td>0</td>\n",
       "      <td>House</td>\n",
       "      <td>NaN</td>\n",
       "      <td>Entire home/apt</td>\n",
       "      <td>94117.0</td>\n",
       "    </tr>\n",
       "  </tbody>\n",
       "</table>\n",
       "<p>4 rows × 25 columns</p>\n",
       "</div>"
      ],
      "text/plain": [
       "   accommodates                                          amenities  bathrooms  \\\n",
       "0             3  {\"Wireless Internet\",\"Air conditioning\",Kitche...        1.0   \n",
       "1             7  {\"Wireless Internet\",\"Air conditioning\",Kitche...        1.0   \n",
       "2             5  {TV,\"Cable TV\",\"Wireless Internet\",\"Air condit...        1.0   \n",
       "3             4  {TV,\"Cable TV\",Internet,\"Wireless Internet\",Ki...        1.0   \n",
       "\n",
       "   bed_type  bedrooms  beds cancellation_policy city  cleaning_fee dataset  \\\n",
       "0  Real Bed       1.0   1.0              strict  NYC          True   train   \n",
       "1  Real Bed       3.0   3.0              strict  NYC          True   train   \n",
       "2  Real Bed       1.0   3.0            moderate  NYC          True   train   \n",
       "3  Real Bed       2.0   2.0            flexible   SF          True   train   \n",
       "\n",
       "    ...    instant_bookable          last_review   latitude log_price  \\\n",
       "0   ...               False  2016-07-18 00:00:00  40.696524  5.010635   \n",
       "1   ...                True  2017-09-23 00:00:00  40.766115  5.129899   \n",
       "2   ...                True  2017-09-14 00:00:00  40.808110  4.976734   \n",
       "3   ...               False                  NaT  37.772004  6.620073   \n",
       "\n",
       "    longitude  number_of_reviews property_type  review_scores_rating  \\\n",
       "0  -73.991617                  2     Apartment                 100.0   \n",
       "1  -73.989040                  6     Apartment                  93.0   \n",
       "2  -73.943756                 10     Apartment                  92.0   \n",
       "3 -122.431619                  0         House                   NaN   \n",
       "\n",
       "         room_type  zipcode  \n",
       "0  Entire home/apt    11201  \n",
       "1  Entire home/apt    10019  \n",
       "2  Entire home/apt    10027  \n",
       "3  Entire home/apt  94117.0  \n",
       "\n",
       "[4 rows x 25 columns]"
      ]
     },
     "execution_count": 116,
     "metadata": {},
     "output_type": "execute_result"
    }
   ],
   "source": [
    "train['dataset'] = \"train\"\n",
    "test['dataset'] = \"test\"\n",
    "data = pd.concat([train,test], axis = 0)\n",
    "data.set_index('id')\n",
    "\n",
    "# Column Selection\n",
    "data = data.drop(['name','thumbnail_url','neighbourhood','description','host_since'],axis=1)\n",
    "data.head(4)"
   ]
  },
  {
   "cell_type": "markdown",
   "metadata": {},
   "source": [
    "## Data Cleaning"
   ]
  },
  {
   "cell_type": "code",
   "execution_count": 117,
   "metadata": {},
   "outputs": [
    {
     "name": "stdout",
     "output_type": "stream",
     "text": [
      "Number of NaN values removed: 1732\n",
      "Number of Accommodates 0: 0\n",
      "Number of Beds 0: 3\n",
      "Number of Listings with Price 0 1\n"
     ]
    }
   ],
   "source": [
    "# remove NaN values from dataframe\n",
    "original = len(data)\n",
    "data = data.dropna(how='any', subset=['zipcode','property_type', 'bedrooms', 'beds', 'bathrooms'])\n",
    "print('Number of NaN values removed:', original - len(data))\n",
    "\n",
    "#Set Bedrooms to 1 whereever it is 0\n",
    "data[data['bedrooms'] == 0]=1\n",
    "\n",
    "# drop any inconsistent values\n",
    "print('Number of Accommodates 0:', len(data[data['accommodates'] == 0]))\n",
    "print('Number of Beds 0:', len(data[data['beds'] == 0]))\n",
    "print('Number of Listings with Price 0', len(data[data['log_price'] == 0]))\n",
    "\n",
    "# convert ZipCode\n",
    "data['zipcode'] = data['zipcode'].str.replace(r'-\\d+', '')\n"
   ]
  },
  {
   "cell_type": "markdown",
   "metadata": {},
   "source": [
    "## Accomodation Distribution"
   ]
  },
  {
   "cell_type": "code",
   "execution_count": 118,
   "metadata": {},
   "outputs": [
    {
     "name": "stdout",
     "output_type": "stream",
     "text": [
      "Number of Unique Accomodation:  [ 1  2  3  4  5  6  7  8  9 10 11 12 13 14 15 16]\n",
      "Accommodation 1: 20589\n",
      "Accommodation 2: 36568\n",
      "Accommodation 3: 8837\n",
      "Accommodation 4: 14895\n",
      "Accommodation 5: 4529\n",
      "Accommodation 6: 6526\n",
      "Accommodation 7: 1250\n",
      "Accommodation 8: 2383\n",
      "Accommodation 9: 335\n",
      "Accommodation 10: 902\n",
      "Accommodation 11: 115\n",
      "Accommodation 12: 328\n",
      "Accommodation 13: 44\n",
      "Accommodation 14: 137\n",
      "Accommodation 15: 64\n",
      "Accommodation 16: 335\n"
     ]
    }
   ],
   "source": [
    "# explore distribution of accommodates\n",
    "print('Number of Unique Accomodation: ', np.unique(data['accommodates']))\n",
    "for i in range(1, 17):\n",
    "    print('Accommodation {}:'.format(i), len(data[data['accommodates'] == i]))"
   ]
  },
  {
   "cell_type": "code",
   "execution_count": 119,
   "metadata": {},
   "outputs": [
    {
     "data": {
      "image/png": "[encoded data removed]",
      "text/plain": [
       "<matplotlib.figure.Figure at 0x280cb310978>"
      ]
     },
     "metadata": {},
     "output_type": "display_data"
    }
   ],
   "source": [
    "import matplotlib.pyplot as plt\n",
    "# visualize distribution of price (target variable)\n",
    "plt.hist(data['accommodates'], bins=50)\n",
    "plt.title(\"Histogram of Accommodations\")\n",
    "plt.xlabel(\"Number of Accommodations\")\n",
    "plt.ylabel(\"Frequency\")\n",
    "plt.show()"
   ]
  },
  {
   "cell_type": "code",
   "execution_count": 120,
   "metadata": {},
   "outputs": [
    {
     "data": {
      "image/png": "[encoded data removed]",
      "text/plain": [
       "<matplotlib.figure.Figure at 0x280bf28dc18>"
      ]
     },
     "metadata": {},
     "output_type": "display_data"
    }
   ],
   "source": [
    "# visualize distribution of review scores ratings\n",
    "plt.hist(data['review_scores_rating'][~data['review_scores_rating'].isnull()])\n",
    "plt.title(\"Histogram of Review Scores Ratings\")\n",
    "plt.xlabel(\"Review Score\")\n",
    "plt.ylabel(\"Frequency\")\n",
    "plt.show()"
   ]
  },
  {
   "cell_type": "code",
   "execution_count": 121,
   "metadata": {},
   "outputs": [
    {
     "name": "stdout",
     "output_type": "stream",
     "text": [
      "first_review              19.533510\n",
      "host_has_profile_pic       0.222820\n",
      "host_identity_verified     0.222820\n",
      "host_response_rate        22.399501\n",
      "last_review               19.487515\n",
      "log_price                 23.288735\n",
      "zipcode                    9.054857\n",
      "dtype: float64\n",
      "0           100\n",
      "1            93\n",
      "2            92\n",
      "3    No Reviews\n",
      "4             1\n",
      "Name: review_scores_rating, dtype: object\n"
     ]
    }
   ],
   "source": [
    "# turn NaN scores with 0 reviews into 'No Reviews'\n",
    "data.loc[data['number_of_reviews'] == 0, 'review_scores_rating'] = 'No Reviews'\n",
    "data.loc[data['review_scores_rating'].isnull(), 'review_scores_rating'] = 'No Reviews'\n",
    "\n",
    "# Calculate NaN %\n",
    "data_nan = (data.isnull().sum() / data.shape[0]) * 100\n",
    "data_nan = data_nan[data_nan>0]\n",
    "print(data_nan)\n",
    "\n",
    "print(data.review_scores_rating.head(5))"
   ]
  },
  {
   "cell_type": "code",
   "execution_count": 122,
   "metadata": {},
   "outputs": [
    {
     "name": "stdout",
     "output_type": "stream",
     "text": [
      "Unique Values in the Column: ['0-9' '20-29' '30-39' '40-49' '50-59' '60-69' '70-79' '80-84' '85-89'\n",
      " '90-94' '95-100' 'No Reviews']\n"
     ]
    }
   ],
   "source": [
    "# convert review_scores_rating into buckets\n",
    "def convert_scores_buckets(val):\n",
    "    if val == 'No Reviews':\n",
    "        return 'No Reviews'\n",
    "    elif int(val) >= 95:\n",
    "        return '95-100'\n",
    "    elif int(val) >= 90 and int(val) < 95:\n",
    "        return '90-94'\n",
    "    elif int(val) >= 85 and int(val) < 90:\n",
    "        return '85-89'\n",
    "    elif int(val) >= 80 and int(val) < 85:\n",
    "        return '80-84'\n",
    "    elif int(val) >= 70 and int(val) < 80:\n",
    "        return '70-79'\n",
    "    elif int(val) >= 60 and int(val) < 70:\n",
    "        return '60-69'\n",
    "    elif int(val) >= 50 and int(val) < 60:\n",
    "        return '50-59'\n",
    "    elif int(val) >= 40 and int(val) < 50:\n",
    "        return '40-49'\n",
    "    elif int(val) >= 30 and int(val) < 40:\n",
    "        return '30-39'\n",
    "    elif int(val) >= 20 and int(val) < 30:\n",
    "        return '20-29'\n",
    "    elif int(val) >= 10 and int(val) < 20:\n",
    "        return '10-19'\n",
    "    elif int(val) < 10.0:\n",
    "        return '0-9'\n",
    "\n",
    "data['review_scores_rating'] = data['review_scores_rating'].apply(convert_scores_buckets)\n",
    "print('Unique Values in the Column:', np.unique(data['review_scores_rating']))"
   ]
  },
  {
   "cell_type": "code",
   "execution_count": 123,
   "metadata": {},
   "outputs": [
    {
     "name": "stdout",
     "output_type": "stream",
     "text": [
      "Number of remaining records: 97837\n"
     ]
    }
   ],
   "source": [
    "print('Number of remaining records:', len(data))"
   ]
  },
  {
   "cell_type": "markdown",
   "metadata": {},
   "source": [
    "## One-hot-encode categorical variables"
   ]
  },
  {
   "cell_type": "code",
   "execution_count": 124,
   "metadata": {},
   "outputs": [],
   "source": [
    "categorical = ['property_type','room_type','bed_type','cancellation_policy','city','review_scores_rating']\n",
    "data = pd.get_dummies(data, columns = categorical)"
   ]
  },
  {
   "cell_type": "code",
   "execution_count": 125,
   "metadata": {},
   "outputs": [
    {
     "data": {
      "text/plain": [
       "0    0\n",
       "1    0\n",
       "2    0\n",
       "3    0\n",
       "4    1\n",
       "5    0\n",
       "6    0\n",
       "7    0\n",
       "8    0\n",
       "9    0\n",
       "Name: room_type_1, dtype: uint8"
      ]
     },
     "execution_count": 125,
     "metadata": {},
     "output_type": "execute_result"
    }
   ],
   "source": [
    "data.room_type_1.head(10)"
   ]
  },
  {
   "cell_type": "code",
   "execution_count": 126,
   "metadata": {},
   "outputs": [],
   "source": [
    "#convert non-categorical variables to floats and standardize\n",
    "def standardize_col(col):\n",
    "    mean = np.mean(col)\n",
    "    std = np.std(col)\n",
    "    return col.apply(lambda x: (x - mean) / std)\n",
    "\n",
    "# Remove % from host_response_rate\n",
    "data['host_response_rate']=data['host_response_rate'].str[:-1].astype(float)"
   ]
  },
  {
   "cell_type": "code",
   "execution_count": 131,
   "metadata": {},
   "outputs": [
    {
     "ename": "KeyError",
     "evalue": "'price'",
     "output_type": "error",
     "traceback": [
      "\u001b[1;31m---------------------------------------------------------------------------\u001b[0m",
      "\u001b[1;31mKeyError\u001b[0m                                  Traceback (most recent call last)",
      "\u001b[1;32m~\\AppData\\Local\\Continuum\\Anaconda3\\lib\\site-packages\\pandas\\core\\indexes\\base.py\u001b[0m in \u001b[0;36mget_loc\u001b[1;34m(self, key, method, tolerance)\u001b[0m\n\u001b[0;32m   2524\u001b[0m             \u001b[1;32mtry\u001b[0m\u001b[1;33m:\u001b[0m\u001b[1;33m\u001b[0m\u001b[0m\n\u001b[1;32m-> 2525\u001b[1;33m                 \u001b[1;32mreturn\u001b[0m \u001b[0mself\u001b[0m\u001b[1;33m.\u001b[0m\u001b[0m_engine\u001b[0m\u001b[1;33m.\u001b[0m\u001b[0mget_loc\u001b[0m\u001b[1;33m(\u001b[0m\u001b[0mkey\u001b[0m\u001b[1;33m)\u001b[0m\u001b[1;33m\u001b[0m\u001b[0m\n\u001b[0m\u001b[0;32m   2526\u001b[0m             \u001b[1;32mexcept\u001b[0m \u001b[0mKeyError\u001b[0m\u001b[1;33m:\u001b[0m\u001b[1;33m\u001b[0m\u001b[0m\n",
      "\u001b[1;32mpandas/_libs/index.pyx\u001b[0m in \u001b[0;36mpandas._libs.index.IndexEngine.get_loc\u001b[1;34m()\u001b[0m\n",
      "\u001b[1;32mpandas/_libs/index.pyx\u001b[0m in \u001b[0;36mpandas._libs.index.IndexEngine.get_loc\u001b[1;34m()\u001b[0m\n",
      "\u001b[1;32mpandas/_libs/hashtable_class_helper.pxi\u001b[0m in \u001b[0;36mpandas._libs.hashtable.PyObjectHashTable.get_item\u001b[1;34m()\u001b[0m\n",
      "\u001b[1;32mpandas/_libs/hashtable_class_helper.pxi\u001b[0m in \u001b[0;36mpandas._libs.hashtable.PyObjectHashTable.get_item\u001b[1;34m()\u001b[0m\n",
      "\u001b[1;31mKeyError\u001b[0m: 'price'",
      "\nDuring handling of the above exception, another exception occurred:\n",
      "\u001b[1;31mKeyError\u001b[0m                                  Traceback (most recent call last)",
      "\u001b[1;32m<ipython-input-131-2e72d0d9ee64>\u001b[0m in \u001b[0;36m<module>\u001b[1;34m()\u001b[0m\n\u001b[1;32m----> 1\u001b[1;33m \u001b[0mplt\u001b[0m\u001b[1;33m.\u001b[0m\u001b[0mhist\u001b[0m\u001b[1;33m(\u001b[0m\u001b[0mdata\u001b[0m\u001b[1;33m[\u001b[0m\u001b[1;34m'price'\u001b[0m\u001b[1;33m]\u001b[0m\u001b[1;33m,\u001b[0m \u001b[0mbins\u001b[0m\u001b[1;33m=\u001b[0m\u001b[1;36m50\u001b[0m\u001b[1;33m)\u001b[0m\u001b[1;33m\u001b[0m\u001b[0m\n\u001b[0m\u001b[0;32m      2\u001b[0m \u001b[0mplt\u001b[0m\u001b[1;33m.\u001b[0m\u001b[0mtitle\u001b[0m\u001b[1;33m(\u001b[0m\u001b[1;34m\"Histogram of Pricing\"\u001b[0m\u001b[1;33m)\u001b[0m\u001b[1;33m\u001b[0m\u001b[0m\n\u001b[0;32m      3\u001b[0m \u001b[0mplt\u001b[0m\u001b[1;33m.\u001b[0m\u001b[0mxlabel\u001b[0m\u001b[1;33m(\u001b[0m\u001b[1;34m\"Pricing (USD) Per Day\"\u001b[0m\u001b[1;33m)\u001b[0m\u001b[1;33m\u001b[0m\u001b[0m\n\u001b[0;32m      4\u001b[0m \u001b[0mplt\u001b[0m\u001b[1;33m.\u001b[0m\u001b[0mylabel\u001b[0m\u001b[1;33m(\u001b[0m\u001b[1;34m\"Frequency\"\u001b[0m\u001b[1;33m)\u001b[0m\u001b[1;33m\u001b[0m\u001b[0m\n\u001b[0;32m      5\u001b[0m \u001b[0mplt\u001b[0m\u001b[1;33m.\u001b[0m\u001b[0mshow\u001b[0m\u001b[1;33m(\u001b[0m\u001b[1;33m)\u001b[0m\u001b[1;33m\u001b[0m\u001b[0m\n",
      "\u001b[1;32m~\\AppData\\Local\\Continuum\\Anaconda3\\lib\\site-packages\\pandas\\core\\frame.py\u001b[0m in \u001b[0;36m__getitem__\u001b[1;34m(self, key)\u001b[0m\n\u001b[0;32m   2137\u001b[0m             \u001b[1;32mreturn\u001b[0m \u001b[0mself\u001b[0m\u001b[1;33m.\u001b[0m\u001b[0m_getitem_multilevel\u001b[0m\u001b[1;33m(\u001b[0m\u001b[0mkey\u001b[0m\u001b[1;33m)\u001b[0m\u001b[1;33m\u001b[0m\u001b[0m\n\u001b[0;32m   2138\u001b[0m         \u001b[1;32melse\u001b[0m\u001b[1;33m:\u001b[0m\u001b[1;33m\u001b[0m\u001b[0m\n\u001b[1;32m-> 2139\u001b[1;33m             \u001b[1;32mreturn\u001b[0m \u001b[0mself\u001b[0m\u001b[1;33m.\u001b[0m\u001b[0m_getitem_column\u001b[0m\u001b[1;33m(\u001b[0m\u001b[0mkey\u001b[0m\u001b[1;33m)\u001b[0m\u001b[1;33m\u001b[0m\u001b[0m\n\u001b[0m\u001b[0;32m   2140\u001b[0m \u001b[1;33m\u001b[0m\u001b[0m\n\u001b[0;32m   2141\u001b[0m     \u001b[1;32mdef\u001b[0m \u001b[0m_getitem_column\u001b[0m\u001b[1;33m(\u001b[0m\u001b[0mself\u001b[0m\u001b[1;33m,\u001b[0m \u001b[0mkey\u001b[0m\u001b[1;33m)\u001b[0m\u001b[1;33m:\u001b[0m\u001b[1;33m\u001b[0m\u001b[0m\n",
      "\u001b[1;32m~\\AppData\\Local\\Continuum\\Anaconda3\\lib\\site-packages\\pandas\\core\\frame.py\u001b[0m in \u001b[0;36m_getitem_column\u001b[1;34m(self, key)\u001b[0m\n\u001b[0;32m   2144\u001b[0m         \u001b[1;31m# get column\u001b[0m\u001b[1;33m\u001b[0m\u001b[1;33m\u001b[0m\u001b[0m\n\u001b[0;32m   2145\u001b[0m         \u001b[1;32mif\u001b[0m \u001b[0mself\u001b[0m\u001b[1;33m.\u001b[0m\u001b[0mcolumns\u001b[0m\u001b[1;33m.\u001b[0m\u001b[0mis_unique\u001b[0m\u001b[1;33m:\u001b[0m\u001b[1;33m\u001b[0m\u001b[0m\n\u001b[1;32m-> 2146\u001b[1;33m             \u001b[1;32mreturn\u001b[0m \u001b[0mself\u001b[0m\u001b[1;33m.\u001b[0m\u001b[0m_get_item_cache\u001b[0m\u001b[1;33m(\u001b[0m\u001b[0mkey\u001b[0m\u001b[1;33m)\u001b[0m\u001b[1;33m\u001b[0m\u001b[0m\n\u001b[0m\u001b[0;32m   2147\u001b[0m \u001b[1;33m\u001b[0m\u001b[0m\n\u001b[0;32m   2148\u001b[0m         \u001b[1;31m# duplicate columns & possible reduce dimensionality\u001b[0m\u001b[1;33m\u001b[0m\u001b[1;33m\u001b[0m\u001b[0m\n",
      "\u001b[1;32m~\\AppData\\Local\\Continuum\\Anaconda3\\lib\\site-packages\\pandas\\core\\generic.py\u001b[0m in \u001b[0;36m_get_item_cache\u001b[1;34m(self, item)\u001b[0m\n\u001b[0;32m   1840\u001b[0m         \u001b[0mres\u001b[0m \u001b[1;33m=\u001b[0m \u001b[0mcache\u001b[0m\u001b[1;33m.\u001b[0m\u001b[0mget\u001b[0m\u001b[1;33m(\u001b[0m\u001b[0mitem\u001b[0m\u001b[1;33m)\u001b[0m\u001b[1;33m\u001b[0m\u001b[0m\n\u001b[0;32m   1841\u001b[0m         \u001b[1;32mif\u001b[0m \u001b[0mres\u001b[0m \u001b[1;32mis\u001b[0m \u001b[1;32mNone\u001b[0m\u001b[1;33m:\u001b[0m\u001b[1;33m\u001b[0m\u001b[0m\n\u001b[1;32m-> 1842\u001b[1;33m             \u001b[0mvalues\u001b[0m \u001b[1;33m=\u001b[0m \u001b[0mself\u001b[0m\u001b[1;33m.\u001b[0m\u001b[0m_data\u001b[0m\u001b[1;33m.\u001b[0m\u001b[0mget\u001b[0m\u001b[1;33m(\u001b[0m\u001b[0mitem\u001b[0m\u001b[1;33m)\u001b[0m\u001b[1;33m\u001b[0m\u001b[0m\n\u001b[0m\u001b[0;32m   1843\u001b[0m             \u001b[0mres\u001b[0m \u001b[1;33m=\u001b[0m \u001b[0mself\u001b[0m\u001b[1;33m.\u001b[0m\u001b[0m_box_item_values\u001b[0m\u001b[1;33m(\u001b[0m\u001b[0mitem\u001b[0m\u001b[1;33m,\u001b[0m \u001b[0mvalues\u001b[0m\u001b[1;33m)\u001b[0m\u001b[1;33m\u001b[0m\u001b[0m\n\u001b[0;32m   1844\u001b[0m             \u001b[0mcache\u001b[0m\u001b[1;33m[\u001b[0m\u001b[0mitem\u001b[0m\u001b[1;33m]\u001b[0m \u001b[1;33m=\u001b[0m \u001b[0mres\u001b[0m\u001b[1;33m\u001b[0m\u001b[0m\n",
      "\u001b[1;32m~\\AppData\\Local\\Continuum\\Anaconda3\\lib\\site-packages\\pandas\\core\\internals.py\u001b[0m in \u001b[0;36mget\u001b[1;34m(self, item, fastpath)\u001b[0m\n\u001b[0;32m   3841\u001b[0m \u001b[1;33m\u001b[0m\u001b[0m\n\u001b[0;32m   3842\u001b[0m             \u001b[1;32mif\u001b[0m \u001b[1;32mnot\u001b[0m \u001b[0misna\u001b[0m\u001b[1;33m(\u001b[0m\u001b[0mitem\u001b[0m\u001b[1;33m)\u001b[0m\u001b[1;33m:\u001b[0m\u001b[1;33m\u001b[0m\u001b[0m\n\u001b[1;32m-> 3843\u001b[1;33m                 \u001b[0mloc\u001b[0m \u001b[1;33m=\u001b[0m \u001b[0mself\u001b[0m\u001b[1;33m.\u001b[0m\u001b[0mitems\u001b[0m\u001b[1;33m.\u001b[0m\u001b[0mget_loc\u001b[0m\u001b[1;33m(\u001b[0m\u001b[0mitem\u001b[0m\u001b[1;33m)\u001b[0m\u001b[1;33m\u001b[0m\u001b[0m\n\u001b[0m\u001b[0;32m   3844\u001b[0m             \u001b[1;32melse\u001b[0m\u001b[1;33m:\u001b[0m\u001b[1;33m\u001b[0m\u001b[0m\n\u001b[0;32m   3845\u001b[0m                 \u001b[0mindexer\u001b[0m \u001b[1;33m=\u001b[0m \u001b[0mnp\u001b[0m\u001b[1;33m.\u001b[0m\u001b[0marange\u001b[0m\u001b[1;33m(\u001b[0m\u001b[0mlen\u001b[0m\u001b[1;33m(\u001b[0m\u001b[0mself\u001b[0m\u001b[1;33m.\u001b[0m\u001b[0mitems\u001b[0m\u001b[1;33m)\u001b[0m\u001b[1;33m)\u001b[0m\u001b[1;33m[\u001b[0m\u001b[0misna\u001b[0m\u001b[1;33m(\u001b[0m\u001b[0mself\u001b[0m\u001b[1;33m.\u001b[0m\u001b[0mitems\u001b[0m\u001b[1;33m)\u001b[0m\u001b[1;33m]\u001b[0m\u001b[1;33m\u001b[0m\u001b[0m\n",
      "\u001b[1;32m~\\AppData\\Local\\Continuum\\Anaconda3\\lib\\site-packages\\pandas\\core\\indexes\\base.py\u001b[0m in \u001b[0;36mget_loc\u001b[1;34m(self, key, method, tolerance)\u001b[0m\n\u001b[0;32m   2525\u001b[0m                 \u001b[1;32mreturn\u001b[0m \u001b[0mself\u001b[0m\u001b[1;33m.\u001b[0m\u001b[0m_engine\u001b[0m\u001b[1;33m.\u001b[0m\u001b[0mget_loc\u001b[0m\u001b[1;33m(\u001b[0m\u001b[0mkey\u001b[0m\u001b[1;33m)\u001b[0m\u001b[1;33m\u001b[0m\u001b[0m\n\u001b[0;32m   2526\u001b[0m             \u001b[1;32mexcept\u001b[0m \u001b[0mKeyError\u001b[0m\u001b[1;33m:\u001b[0m\u001b[1;33m\u001b[0m\u001b[0m\n\u001b[1;32m-> 2527\u001b[1;33m                 \u001b[1;32mreturn\u001b[0m \u001b[0mself\u001b[0m\u001b[1;33m.\u001b[0m\u001b[0m_engine\u001b[0m\u001b[1;33m.\u001b[0m\u001b[0mget_loc\u001b[0m\u001b[1;33m(\u001b[0m\u001b[0mself\u001b[0m\u001b[1;33m.\u001b[0m\u001b[0m_maybe_cast_indexer\u001b[0m\u001b[1;33m(\u001b[0m\u001b[0mkey\u001b[0m\u001b[1;33m)\u001b[0m\u001b[1;33m)\u001b[0m\u001b[1;33m\u001b[0m\u001b[0m\n\u001b[0m\u001b[0;32m   2528\u001b[0m \u001b[1;33m\u001b[0m\u001b[0m\n\u001b[0;32m   2529\u001b[0m         \u001b[0mindexer\u001b[0m \u001b[1;33m=\u001b[0m \u001b[0mself\u001b[0m\u001b[1;33m.\u001b[0m\u001b[0mget_indexer\u001b[0m\u001b[1;33m(\u001b[0m\u001b[1;33m[\u001b[0m\u001b[0mkey\u001b[0m\u001b[1;33m]\u001b[0m\u001b[1;33m,\u001b[0m \u001b[0mmethod\u001b[0m\u001b[1;33m=\u001b[0m\u001b[0mmethod\u001b[0m\u001b[1;33m,\u001b[0m \u001b[0mtolerance\u001b[0m\u001b[1;33m=\u001b[0m\u001b[0mtolerance\u001b[0m\u001b[1;33m)\u001b[0m\u001b[1;33m\u001b[0m\u001b[0m\n",
      "\u001b[1;32mpandas/_libs/index.pyx\u001b[0m in \u001b[0;36mpandas._libs.index.IndexEngine.get_loc\u001b[1;34m()\u001b[0m\n",
      "\u001b[1;32mpandas/_libs/index.pyx\u001b[0m in \u001b[0;36mpandas._libs.index.IndexEngine.get_loc\u001b[1;34m()\u001b[0m\n",
      "\u001b[1;32mpandas/_libs/hashtable_class_helper.pxi\u001b[0m in \u001b[0;36mpandas._libs.hashtable.PyObjectHashTable.get_item\u001b[1;34m()\u001b[0m\n",
      "\u001b[1;32mpandas/_libs/hashtable_class_helper.pxi\u001b[0m in \u001b[0;36mpandas._libs.hashtable.PyObjectHashTable.get_item\u001b[1;34m()\u001b[0m\n",
      "\u001b[1;31mKeyError\u001b[0m: 'price'"
     ]
    }
   ],
   "source": [
    "plt.hist(data['price'], bins=50)\n",
    "plt.title(\"Histogram of Pricing\")\n",
    "plt.xlabel(\"Pricing (USD) Per Day\")\n",
    "plt.ylabel(\"Frequency\")\n",
    "plt.show()"
   ]
  },
  {
   "cell_type": "code",
   "execution_count": 129,
   "metadata": {},
   "outputs": [
    {
     "name": "stdout",
     "output_type": "stream",
     "text": [
      "first_review              19.533510\n",
      "host_has_profile_pic       0.222820\n",
      "host_identity_verified     0.222820\n",
      "host_response_rate        31.454358\n",
      "last_review               19.487515\n",
      "log_price                 23.288735\n",
      "zipcode                    9.054857\n",
      "dtype: float64\n"
     ]
    }
   ],
   "source": [
    "non_cat_vars = ['accommodates', 'bedrooms', 'beds', 'number_of_reviews', 'bathrooms','host_response_rate']\n",
    "for col in non_cat_vars:\n",
    "    data[col] = data[col].astype(float)\n",
    "    data[col] = standardize_col(data[col])\n",
    "\n",
    "# Calculate NaN %\n",
    "data_nan = (data.isnull().sum() / data.shape[0]) * 100\n",
    "data_nan = data_nan[data_nan>0]\n",
    "print(data_nan)\n",
    "\n",
    "train_y = data[data.dataset == \"train\"].log_price.values\n",
    "\n",
    "# Select only numeric data and impute missing values as 0\n",
    "numerics = ['uint8','int16', 'int32', 'int64', 'float16', 'float32', 'float64']\n",
    "train_x = data[data.dataset == \"train\"] \\\n",
    "    .select_dtypes(include=numerics) \\\n",
    "    .drop(\"log_price\", axis = 1) \\\n",
    "    .fillna(0) \\\n",
    "    .values\n",
    "\n",
    "test_x = data[data.dataset == \"test\"] \\\n",
    "    .select_dtypes(include=numerics) \\\n",
    "    .drop(\"log_price\", axis = 1) \\\n",
    "    .fillna(0) \\\n",
    "    .values"
   ]
  },
  {
   "cell_type": "code",
   "execution_count": 130,
   "metadata": {},
   "outputs": [
    {
     "name": "stdout",
     "output_type": "stream",
     "text": [
      "RMSE for current split: 0.42067289877\n",
      "RMSE for current split: 0.423376775176\n",
      "RMSE for current split: 0.410964733132\n",
      "RMSE for current split: 0.419351843222\n",
      "RMSE for current split: 0.419971605804\n"
     ]
    }
   ],
   "source": [
    "# Train a Random Forest model with cross-validation\n",
    "\n",
    "from sklearn.model_selection import KFold\n",
    "cv_groups = KFold(n_splits=5)\n",
    "regr = RandomForestRegressor(random_state = 0, n_estimators = 10)\n",
    "\n",
    "for train_index, test_index in cv_groups.split(train_x):\n",
    "    \n",
    "    # Train the model using the training sets\n",
    "    regr.fit(train_x[train_index], train_y[train_index])\n",
    "    \n",
    "    # Make predictions using the testing set\n",
    "    pred_rf = regr.predict(train_x[test_index])\n",
    "    \n",
    "    # Calculate RMSE for current cross-validation split\n",
    "    rmse = str(np.sqrt(np.mean((train_y[test_index] - pred_rf)**2)))\n",
    "    \n",
    "    print(\"RMSE for current split: \" + rmse)"
   ]
  },
  {
   "cell_type": "code",
   "execution_count": 48,
   "metadata": {
    "collapsed": true
   },
   "outputs": [],
   "source": [
    "# Create submission file\n",
    "regr.fit(train_x, train_y)\n",
    "final_prediction = regr.predict(test_x)\n",
    "\n",
    "submission = pd.DataFrame(np.column_stack([test.id, final_prediction]), columns = ['id','log_price'])\n",
    "submission.to_csv(\"sample_submission.csv\", index = False)"
   ]
  },
  {
   "cell_type": "code",
   "execution_count": null,
   "metadata": {
    "collapsed": true
   },
   "outputs": [],
   "source": []
  }
 ],
 "metadata": {
  "kernelspec": {
   "display_name": "Python 3",
   "language": "python",
   "name": "python3"
  },
  "language_info": {
   "codemirror_mode": {
    "name": "ipython",
    "version": 3
   },
   "file_extension": ".py",
   "mimetype": "text/x-python",
   "name": "python",
   "nbconvert_exporter": "python",
   "pygments_lexer": "ipython3",
   "version": "3.6.0"
  }
 },
 "nbformat": 4,
 "nbformat_minor": 2
}
