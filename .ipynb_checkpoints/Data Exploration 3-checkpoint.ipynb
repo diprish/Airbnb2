{
 "cells": [
  {
   "cell_type": "code",
   "execution_count": 2,
   "metadata": {
    "collapsed": true
   },
   "outputs": [],
   "source": [
    "# Load required libraries and datasets\n",
    "\n",
    "import numpy as np\n",
    "import pandas as pd\n",
    "from sklearn.preprocessing import OneHotEncoder, LabelEncoder\n",
    "from sklearn.ensemble import RandomForestRegressor\n",
    "\n",
    "path = \"./\"\n",
    "train = pd.read_csv(path + \"train.csv\")\n",
    "test = pd.read_csv(path + \"test.csv\")"
   ]
  },
  {
   "cell_type": "markdown",
   "metadata": {},
   "source": [
    "## Drop columns which are not required"
   ]
  },
  {
   "cell_type": "code",
   "execution_count": 3,
   "metadata": {
    "collapsed": true
   },
   "outputs": [],
   "source": [
    "train['dataset'] = \"train\"\n",
    "test['dataset'] = \"test\"\n",
    "data = pd.concat([train,test], axis = 0)\n",
    "\n",
    "columns_to_drop = ['description','name','neighbourhood','thumbnail_url']\n",
    "for c in columns_to_drop:\n",
    "    data.drop(c,axis=1)"
   ]
  },
  {
   "cell_type": "markdown",
   "metadata": {},
   "source": []
  },
  {
   "cell_type": "code",
   "execution_count": null,
   "metadata": {
    "collapsed": true
   },
   "outputs": [],
   "source": []
  },
  {
   "cell_type": "code",
   "execution_count": null,
   "metadata": {
    "collapsed": true
   },
   "outputs": [],
   "source": [
    "# One-hot-encode categorical variables\n",
    "categorical = ['property_type','room_type','bed_type','cancellation_policy','city']\n",
    "data = pd.get_dummies(data, columns = categorical)"
   ]
  },
  {
   "cell_type": "code",
   "execution_count": 6,
   "metadata": {
    "collapsed": true
   },
   "outputs": [],
   "source": [
    "# Select only numeric data and impute missing values as 0\n",
    "numerics = ['uint8','int16', 'int32', 'int64', 'float16', 'float32', 'float64']\n",
    "train_x = data[data.dataset == \"train\"] \\\n",
    "    .select_dtypes(include=numerics) \\\n",
    "    .drop(\"log_price\", axis = 1) \\\n",
    "    .fillna(0) \\\n",
    "    .values\n",
    "\n",
    "test_x = data[data.dataset == \"test\"] \\\n",
    "    .select_dtypes(include=numerics) \\\n",
    "    .drop(\"log_price\", axis = 1) \\\n",
    "    .fillna(0) \\\n",
    "    .values\n",
    "    \n",
    "train_y = data[data.dataset == \"train\"].log_price.values"
   ]
  },
  {
   "cell_type": "code",
   "execution_count": null,
   "metadata": {},
   "outputs": [
    {
     "name": "stdout",
     "output_type": "stream",
     "text": [
      "Leaf Size: 1\n",
      "RMSE for current split: 0.414398200688\n",
      "RMSE for current split: 0.390431579841\n",
      "RMSE for current split: 0.396590483988\n",
      "RMSE for current split: 0.404026339999\n",
      "RMSE for current split: 0.387322741676\n",
      "RMSE for current split: 0.395154636037\n",
      "RMSE for current split: 0.403544358305\n",
      "RMSE for current split: 0.403117079208\n",
      "RMSE for current split: 0.397940898955\n",
      "RMSE for current split: 0.409196291087\n",
      "Leaf Size: 5\n",
      "RMSE for current split: 0.411393163314\n",
      "RMSE for current split: 0.387167425046\n",
      "RMSE for current split: 0.394739765627\n",
      "RMSE for current split: 0.401223368293\n",
      "RMSE for current split: 0.385406915374\n",
      "RMSE for current split: 0.392627301948\n",
      "RMSE for current split: 0.399267096317\n",
      "RMSE for current split: 0.397889454815\n",
      "RMSE for current split: 0.395358468653\n",
      "RMSE for current split: 0.405571869642\n",
      "Leaf Size: 10\n",
      "RMSE for current split: 0.411920662091\n",
      "RMSE for current split: 0.388421526585\n",
      "RMSE for current split: 0.395006967568\n",
      "RMSE for current split: 0.401950303251\n",
      "RMSE for current split: 0.386456848342\n",
      "RMSE for current split: 0.392360991621\n",
      "RMSE for current split: 0.399663484002\n",
      "RMSE for current split: 0.398529788301\n",
      "RMSE for current split: 0.397008690623\n",
      "RMSE for current split: 0.405458307132\n",
      "Leaf Size: 50\n",
      "RMSE for current split: 0.421590236178\n",
      "RMSE for current split: 0.399149884075\n",
      "RMSE for current split: 0.405425369645\n",
      "RMSE for current split: 0.414824244088\n",
      "RMSE for current split: 0.3974616361\n",
      "RMSE for current split: 0.400745188623\n",
      "RMSE for current split: 0.409239042997\n",
      "RMSE for current split: 0.409696238454\n",
      "RMSE for current split: 0.407980410756\n",
      "RMSE for current split: 0.416347504074\n",
      "Leaf Size: 100\n"
     ]
    }
   ],
   "source": [
    "from sklearn.model_selection import KFold\n",
    "\n",
    "sample_leaf_options = [1,5,10,50,100,300,500,700,1000]\n",
    "\n",
    "for leaf_size in sample_leaf_options:\n",
    "    print('Leaf Size: {}'.format(leaf_size))\n",
    "    \n",
    "    cv_groups = KFold(n_splits=10)\n",
    "    \n",
    "    regr = RandomForestRegressor(n_estimators = 200,oob_score = True,n_jobs = -1,random_state =50,max_features = \"auto\", min_samples_leaf = leaf_size)\n",
    "\n",
    "    for train_index, test_index in cv_groups.split(train_x):\n",
    "\n",
    "        # Train the model using the training sets\n",
    "        regr.fit(train_x[train_index], train_y[train_index])\n",
    "\n",
    "        # Make predictions using the testing set\n",
    "        pred_rf = regr.predict(train_x[test_index])\n",
    "\n",
    "        # Calculate RMSE for current cross-validation split\n",
    "        rmse = str(np.sqrt(np.mean((train_y[test_index] - pred_rf)**2)))\n",
    "\n",
    "        print(\"RMSE for current split: \" + rmse)"
   ]
  },
  {
   "cell_type": "code",
   "execution_count": null,
   "metadata": {
    "collapsed": true
   },
   "outputs": [],
   "source": [
    "# Create submission file\n",
    "regr.fit(train_x, train_y)\n",
    "final_prediction = regr.predict(test_x)\n",
    "\n",
    "submission = pd.DataFrame(np.column_stack([test.id, final_prediction]), columns = ['id','log_price'])\n",
    "submission.to_csv(\"sample_submission.csv\", index = False)"
   ]
  }
 ],
 "metadata": {
  "kernelspec": {
   "display_name": "Python 3",
   "language": "python",
   "name": "python3"
  }
 },
 "nbformat": 4,
 "nbformat_minor": 2
}
