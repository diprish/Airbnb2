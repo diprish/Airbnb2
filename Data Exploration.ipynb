{
 "cells": [
  {
   "cell_type": "code",
   "execution_count": 1,
   "metadata": {
    "collapsed": true
   },
   "outputs": [],
   "source": [
    "import numpy as np\n",
    "import pandas as pd\n",
    "from sklearn.preprocessing import OneHotEncoder, LabelEncoder\n",
    "from sklearn.ensemble import RandomForestRegressor\n",
    "\n",
    "%matplotlib inline"
   ]
  },
  {
   "cell_type": "code",
   "execution_count": 2,
   "metadata": {
    "collapsed": true
   },
   "outputs": [],
   "source": [
    "path = \"./\"\n",
    "train = pd.read_csv(path + \"train.csv\",true_values='t',false_values='f')\n",
    "test = pd.read_csv(path + \"test.csv\",true_values='t',false_values='f')"
   ]
  },
  {
   "cell_type": "markdown",
   "metadata": {},
   "source": [
    "## Checking & Modifying Column Data Types"
   ]
  },
  {
   "cell_type": "code",
   "execution_count": 3,
   "metadata": {},
   "outputs": [
    {
     "data": {
      "text/plain": [
       "id                                 int64\n",
       "log_price                        float64\n",
       "property_type                     object\n",
       "room_type                         object\n",
       "amenities                         object\n",
       "accommodates                       int64\n",
       "bathrooms                        float64\n",
       "bed_type                          object\n",
       "cancellation_policy               object\n",
       "cleaning_fee                        bool\n",
       "city                              object\n",
       "description                       object\n",
       "first_review              datetime64[ns]\n",
       "host_has_profile_pic              object\n",
       "host_identity_verified            object\n",
       "host_response_rate                object\n",
       "host_since                datetime64[ns]\n",
       "instant_bookable                    bool\n",
       "last_review               datetime64[ns]\n",
       "latitude                         float64\n",
       "longitude                        float64\n",
       "name                              object\n",
       "neighbourhood                     object\n",
       "number_of_reviews                  int64\n",
       "review_scores_rating             float64\n",
       "thumbnail_url                     object\n",
       "zipcode                           object\n",
       "bedrooms                         float64\n",
       "beds                             float64\n",
       "dtype: object"
      ]
     },
     "execution_count": 3,
     "metadata": {},
     "output_type": "execute_result"
    }
   ],
   "source": [
    "train['first_review'] = pd.to_datetime(train['first_review'])\n",
    "train['host_since'] = pd.to_datetime(train['host_since'])\n",
    "train['last_review'] = pd.to_datetime(train['last_review'])\n",
    "train.dtypes"
   ]
  },
  {
   "cell_type": "markdown",
   "metadata": {},
   "source": [
    "## Calculating NaN %"
   ]
  },
  {
   "cell_type": "code",
   "execution_count": 6,
   "metadata": {},
   "outputs": [
    {
     "data": {
      "text/plain": [
       "bathrooms                  0.269865\n",
       "first_review              21.405729\n",
       "host_has_profile_pic       0.253674\n",
       "host_identity_verified     0.253674\n",
       "host_response_rate        24.691341\n",
       "host_since                 0.253674\n",
       "last_review               21.355804\n",
       "neighbourhood              9.272578\n",
       "review_scores_rating      22.563452\n",
       "thumbnail_url             11.086074\n",
       "zipcode                    1.303450\n",
       "bedrooms                   0.122789\n",
       "beds                       0.176762\n",
       "dtype: float64"
      ]
     },
     "execution_count": 6,
     "metadata": {},
     "output_type": "execute_result"
    }
   ],
   "source": [
    "train_nan = (train.isnull().sum() / train.shape[0]) * 100\n",
    "train_nan = train_nan[train_nan>0]\n",
    "train_nan"
   ]
  },
  {
   "cell_type": "markdown",
   "metadata": {},
   "source": [
    "## One-hot-encode categorical variables"
   ]
  },
  {
   "cell_type": "code",
   "execution_count": 26,
   "metadata": {},
   "outputs": [
    {
     "name": "stdout",
     "output_type": "stream",
     "text": [
      "24-hour check-in\n",
      "Accessible-height bed\n",
      "Accessible-height toilet\n",
      "Air conditioning\n",
      "Air purifier\n",
      "BBQ grill\n",
      "Baby bath\n",
      "Baby monitor\n",
      "Babysitter recommendations\n",
      "Bath towel\n",
      "Bathtub\n",
      "Bathtub with shower chair\n",
      "Beach essentials\n",
      "Beachfront\n",
      "Bed linens\n",
      "Body soap\n",
      "Breakfast\n",
      "Buzzer/wireless intercom\n",
      "Cable TV\n",
      "Carbon monoxide detector\n",
      "Cat(s)\n",
      "Changing table\n",
      "Children’s books and toys\n",
      "Children’s dinnerware\n",
      "Cleaning before checkout\n",
      "Coffee maker\n",
      "Cooking basics\n",
      "Crib\n",
      "Disabled parking spot\n",
      "Dishes and silverware\n",
      "Dishwasher\n",
      "Dog(s)\n",
      "Doorman\n",
      "Doorman Entry\n",
      "Dryer\n",
      "EV charger\n",
      "Elevator\n",
      "Elevator in building\n",
      "Essentials\n",
      "Ethernet connection\n",
      "Extra pillows and blankets\n",
      "Family/kid friendly\n",
      "Fire extinguisher\n",
      "Fireplace guards\n",
      "Firm mattress\n",
      "First aid kit\n",
      "Fixed grab bars for shower & toilet\n",
      "Flat smooth pathway to front door\n",
      "Free parking on premises\n",
      "Free parking on street\n",
      "Game console\n",
      "Garden or backyard\n",
      "Grab-rails for shower and toilet\n",
      "Ground floor access\n",
      "Gym\n",
      "Hair dryer\n",
      "Hand or paper towel\n",
      "Hand soap\n",
      "Handheld shower head\n",
      "Hangers\n",
      "Heating\n",
      "High chair\n",
      "Host greets you\n",
      "Hot tub\n",
      "Hot water\n",
      "Hot water kettle\n",
      "Indoor fireplace\n",
      "Internet\n",
      "Iron\n",
      "Keypad\n",
      "Kitchen\n",
      "Lake access\n",
      "Laptop friendly workspace\n",
      "Lock on bedroom door\n",
      "Lockbox\n",
      "Long term stays allowed\n",
      "Luggage dropoff allowed\n",
      "Microwave\n",
      "Other\n",
      "Other pet(s)\n",
      "Outlet covers\n",
      "Oven\n",
      "Pack ’n Play/travel crib\n",
      "Paid parking off premises\n",
      "Path to entrance lit at night\n",
      "Patio or balcony\n",
      "Pets allowed\n",
      "Pets live on this property\n",
      "Pocket wifi\n",
      "Pool\n",
      "Private bathroom\n",
      "Private entrance\n",
      "Private living room\n",
      "Refrigerator\n",
      "Roll-in shower with chair\n",
      "Room-darkening shades\n",
      "Safety card\n",
      "Self Check-In\n",
      "Shampoo\n",
      "Single level home\n",
      "Ski in/Ski out\n",
      "Smart lock\n",
      "Smartlock\n",
      "Smoke detector\n",
      "Smoking allowed\n",
      "Stair gates\n",
      "Step-free access\n",
      "Stove\n",
      "Suitable for events\n",
      "TV\n",
      "Table corner guards\n",
      "Toilet paper\n",
      "Washer\n",
      "Washer / Dryer\n",
      "Waterfront\n",
      "Well-lit path to entrance\n",
      "Wheelchair accessible\n",
      "Wide clearance to bed\n",
      "Wide clearance to shower & toilet\n",
      "Wide clearance to shower and toilet\n",
      "Wide doorway\n",
      "Wide entryway\n",
      "Wide hallway clearance\n",
      "Window guards\n",
      "Wireless Internet\n",
      "125\n"
     ]
    }
   ],
   "source": [
    "train['dataset'] = \"train\"\n",
    "test['dataset'] = \"test\"\n",
    "data = pd.concat([train,test], axis = 0)\n",
    "\n",
    "# Create amenities columns\n",
    "amenitie_options = []\n",
    "\n",
    "for a in data.amenities:\n",
    "    a = a[1:-1]\n",
    "    \n",
    "    if len(a)>0 and a[0]=='\"':\n",
    "        a = a[1:]\n",
    "        \n",
    "    if len(a)>0 and a[-1]=='\"':\n",
    "        a = a[:-1]\n",
    "    \n",
    "    for x in a.split('\",\"'):\n",
    "        for y in x.split(',\"'):\n",
    "            for z in y.split('\",'):\n",
    "                if ', ' in z:\n",
    "                    # Don't split\n",
    "                    z = z.replace(',','')\n",
    "                    if len(z)>0 and 'translation missing' not in z and z not in amenitie_options:\n",
    "                        amenitie_options.append(str(z))\n",
    "                else:\n",
    "                    for a in z.split(','):\n",
    "                        if len(a)>0 and 'translation missing' not in a and a not in amenitie_options:\n",
    "                            amenitie_options.append(str(a))\n",
    "amenitie_options.sort()\n",
    "amenitie_options.remove('Firm matress')\n",
    "for row in amenitie_options:\n",
    "    print(row)\n",
    "print(len(amenitie_options))"
   ]
  },
  {
   "cell_type": "code",
   "execution_count": 14,
   "metadata": {},
   "outputs": [
    {
     "ename": "NameError",
     "evalue": "name 'data' is not defined",
     "output_type": "error",
     "traceback": [
      "\u001b[0;31m---------------------------------------------------------------------------\u001b[0m",
      "\u001b[0;31mNameError\u001b[0m                                 Traceback (most recent call last)",
      "\u001b[0;32m<ipython-input-14-9c6856b72fd5>\u001b[0m in \u001b[0;36m<module>\u001b[0;34m()\u001b[0m\n\u001b[1;32m      1\u001b[0m \u001b[0mcategorical\u001b[0m \u001b[0;34m=\u001b[0m \u001b[0;34m[\u001b[0m\u001b[0;34m'property_type'\u001b[0m\u001b[0;34m,\u001b[0m\u001b[0;34m'room_type'\u001b[0m\u001b[0;34m,\u001b[0m\u001b[0;34m'bed_type'\u001b[0m\u001b[0;34m,\u001b[0m\u001b[0;34m'cancellation_policy'\u001b[0m\u001b[0;34m,\u001b[0m\u001b[0;34m'city'\u001b[0m\u001b[0;34m]\u001b[0m\u001b[0;34m\u001b[0m\u001b[0m\n\u001b[0;32m----> 2\u001b[0;31m \u001b[0mdata\u001b[0m \u001b[0;34m=\u001b[0m \u001b[0mpd\u001b[0m\u001b[0;34m.\u001b[0m\u001b[0mget_dummies\u001b[0m\u001b[0;34m(\u001b[0m\u001b[0mdata\u001b[0m\u001b[0;34m,\u001b[0m \u001b[0mcolumns\u001b[0m \u001b[0;34m=\u001b[0m \u001b[0mcategorical\u001b[0m\u001b[0;34m)\u001b[0m\u001b[0;34m\u001b[0m\u001b[0m\n\u001b[0m\u001b[1;32m      3\u001b[0m \u001b[0mdata\u001b[0m\u001b[0;34m.\u001b[0m\u001b[0mcolumns\u001b[0m\u001b[0;34m\u001b[0m\u001b[0m\n",
      "\u001b[0;31mNameError\u001b[0m: name 'data' is not defined"
     ]
    }
   ],
   "source": [
    "categorical = ['property_type','room_type','bed_type','cancellation_policy','city']\n",
    "data = pd.get_dummies(data, columns = categorical)\n",
    "data.columns"
   ]
  },
  {
   "cell_type": "code",
   "execution_count": 15,
   "metadata": {},
   "outputs": [
    {
     "ename": "NameError",
     "evalue": "name 'data' is not defined",
     "output_type": "error",
     "traceback": [
      "\u001b[0;31m---------------------------------------------------------------------------\u001b[0m",
      "\u001b[0;31mNameError\u001b[0m                                 Traceback (most recent call last)",
      "\u001b[0;32m<ipython-input-15-868f7d54fd3e>\u001b[0m in \u001b[0;36m<module>\u001b[0;34m()\u001b[0m\n\u001b[1;32m      1\u001b[0m \u001b[0;31m# Select only numeric data and impute missing values as 0\u001b[0m\u001b[0;34m\u001b[0m\u001b[0;34m\u001b[0m\u001b[0m\n\u001b[1;32m      2\u001b[0m \u001b[0mnumerics\u001b[0m \u001b[0;34m=\u001b[0m \u001b[0;34m[\u001b[0m\u001b[0;34m'uint8'\u001b[0m\u001b[0;34m,\u001b[0m\u001b[0;34m'int16'\u001b[0m\u001b[0;34m,\u001b[0m \u001b[0;34m'int32'\u001b[0m\u001b[0;34m,\u001b[0m \u001b[0;34m'int64'\u001b[0m\u001b[0;34m,\u001b[0m \u001b[0;34m'float16'\u001b[0m\u001b[0;34m,\u001b[0m \u001b[0;34m'float32'\u001b[0m\u001b[0;34m,\u001b[0m \u001b[0;34m'float64'\u001b[0m\u001b[0;34m]\u001b[0m\u001b[0;34m\u001b[0m\u001b[0m\n\u001b[0;32m----> 3\u001b[0;31m \u001b[0mtrain_x\u001b[0m \u001b[0;34m=\u001b[0m \u001b[0mdata\u001b[0m\u001b[0;34m[\u001b[0m\u001b[0mdata\u001b[0m\u001b[0;34m.\u001b[0m\u001b[0mdataset\u001b[0m \u001b[0;34m==\u001b[0m \u001b[0;34m\"train\"\u001b[0m\u001b[0;34m]\u001b[0m     \u001b[0;34m.\u001b[0m\u001b[0mselect_dtypes\u001b[0m\u001b[0;34m(\u001b[0m\u001b[0minclude\u001b[0m\u001b[0;34m=\u001b[0m\u001b[0mnumerics\u001b[0m\u001b[0;34m)\u001b[0m     \u001b[0;34m.\u001b[0m\u001b[0mdrop\u001b[0m\u001b[0;34m(\u001b[0m\u001b[0;34m\"log_price\"\u001b[0m\u001b[0;34m,\u001b[0m \u001b[0maxis\u001b[0m \u001b[0;34m=\u001b[0m \u001b[0;36m1\u001b[0m\u001b[0;34m)\u001b[0m     \u001b[0;34m.\u001b[0m\u001b[0mfillna\u001b[0m\u001b[0;34m(\u001b[0m\u001b[0;36m0\u001b[0m\u001b[0;34m)\u001b[0m     \u001b[0;34m.\u001b[0m\u001b[0mvalues\u001b[0m\u001b[0;34m\u001b[0m\u001b[0m\n\u001b[0m\u001b[1;32m      4\u001b[0m \u001b[0;34m\u001b[0m\u001b[0m\n\u001b[1;32m      5\u001b[0m \u001b[0mtest_x\u001b[0m \u001b[0;34m=\u001b[0m \u001b[0mdata\u001b[0m\u001b[0;34m[\u001b[0m\u001b[0mdata\u001b[0m\u001b[0;34m.\u001b[0m\u001b[0mdataset\u001b[0m \u001b[0;34m==\u001b[0m \u001b[0;34m\"test\"\u001b[0m\u001b[0;34m]\u001b[0m     \u001b[0;34m.\u001b[0m\u001b[0mselect_dtypes\u001b[0m\u001b[0;34m(\u001b[0m\u001b[0minclude\u001b[0m\u001b[0;34m=\u001b[0m\u001b[0mnumerics\u001b[0m\u001b[0;34m)\u001b[0m     \u001b[0;34m.\u001b[0m\u001b[0mdrop\u001b[0m\u001b[0;34m(\u001b[0m\u001b[0;34m\"log_price\"\u001b[0m\u001b[0;34m,\u001b[0m \u001b[0maxis\u001b[0m \u001b[0;34m=\u001b[0m \u001b[0;36m1\u001b[0m\u001b[0;34m)\u001b[0m     \u001b[0;34m.\u001b[0m\u001b[0mfillna\u001b[0m\u001b[0;34m(\u001b[0m\u001b[0;36m0\u001b[0m\u001b[0;34m)\u001b[0m     \u001b[0;34m.\u001b[0m\u001b[0mvalues\u001b[0m\u001b[0;34m\u001b[0m\u001b[0m\n",
      "\u001b[0;31mNameError\u001b[0m: name 'data' is not defined"
     ]
    }
   ],
   "source": [
    "# Select only numeric data and impute missing values as 0\n",
    "numerics = ['uint8','int16', 'int32', 'int64', 'float16', 'float32', 'float64']\n",
    "train_x = data[data.dataset == \"train\"] \\\n",
    "    .select_dtypes(include=numerics) \\\n",
    "    .drop(\"log_price\", axis = 1) \\\n",
    "    .fillna(0) \\\n",
    "    .values\n",
    "\n",
    "test_x = data[data.dataset == \"test\"] \\\n",
    "    .select_dtypes(include=numerics) \\\n",
    "    .drop(\"log_price\", axis = 1) \\\n",
    "    .fillna(0) \\\n",
    "    .values\n",
    "\n",
    "train_y = data[data.dataset == \"train\"].log_price.values"
   ]
  },
  {
   "cell_type": "code",
   "execution_count": 54,
   "metadata": {},
   "outputs": [
    {
     "name": "stdout",
     "output_type": "stream",
     "text": [
      "RMSE for current split: 0.422514098591\n",
      "RMSE for current split: 0.419582744545\n",
      "RMSE for current split: 0.413761925371\n",
      "RMSE for current split: 0.421351916657\n",
      "RMSE for current split: 0.424273559012\n"
     ]
    }
   ],
   "source": [
    "# Train a Random Forest model with cross-validation\n",
    "\n",
    "from sklearn.model_selection import KFold\n",
    "cv_groups = KFold(n_splits=5)\n",
    "regr = RandomForestRegressor(random_state = 0, n_estimators = 10)\n",
    "\n",
    "for train_index, test_index in cv_groups.split(train_x):\n",
    "    \n",
    "    # Train the model using the training sets\n",
    "    regr.fit(train_x[train_index], train_y[train_index])\n",
    "    \n",
    "    # Make predictions using the testing set\n",
    "    pred_rf = regr.predict(train_x[test_index])\n",
    "    \n",
    "    # Calculate RMSE for current cross-validation split\n",
    "    rmse = str(np.sqrt(np.mean((train_y[test_index] - pred_rf)**2)))\n",
    "    \n",
    "    print(\"RMSE for current split: \" + rmse)"
   ]
  },
  {
   "cell_type": "code",
   "execution_count": 14,
   "metadata": {
    "collapsed": true
   },
   "outputs": [],
   "source": [
    "# Create submission file\n",
    "regr.fit(train_x, train_y)\n",
    "final_prediction = regr.predict(test_x)\n",
    "\n",
    "submission = pd.DataFrame(np.column_stack([test.id, final_prediction]), columns = ['id','log_price'])\n",
    "submission.to_csv(\"sample_submission.csv\", index = False)"
   ]
  }
 ],
 "metadata": {
  "kernelspec": {
   "display_name": "Python 3",
   "language": "python",
   "name": "python3"
  },
  "language_info": {
   "codemirror_mode": {
    "name": "ipython",
    "version": 3
   },
   "file_extension": ".py",
   "mimetype": "text/x-python",
   "name": "python",
   "nbconvert_exporter": "python",
   "pygments_lexer": "ipython3",
   "version": "3.6.1"
  }
 },
 "nbformat": 4,
 "nbformat_minor": 2
}
